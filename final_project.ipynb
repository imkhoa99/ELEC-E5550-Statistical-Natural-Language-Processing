{
 "cells": [
  {
   "cell_type": "code",
   "execution_count": 1,
   "id": "8858d897-a1be-4102-a8e9-9c82c5ed1fd8",
   "metadata": {},
   "outputs": [
    {
     "data": {
      "text/plain": [
       "device(type='cuda')"
      ]
     },
     "execution_count": 1,
     "metadata": {},
     "output_type": "execute_result"
    }
   ],
   "source": [
    "import numpy as np\n",
    "import pandas as pd\n",
    "import lbsa\n",
    "import os \n",
    "import math\n",
    "import torch\n",
    "\n",
    "import warnings\n",
    "warnings.simplefilter(\"ignore\", UserWarning)\n",
    "\n",
    "def get_default_device():\n",
    "    \"\"\"Pick GPU if available, else CPU\"\"\"\n",
    "    if torch.cuda.is_available():\n",
    "        return torch.device('cuda')\n",
    "    else:\n",
    "        return torch.device('cpu')\n",
    "    \n",
    "device = get_default_device()\n",
    "device"
   ]
  },
  {
   "cell_type": "code",
   "execution_count": 2,
   "id": "8f96c08f-6b93-49cc-9b37-0f63bc198dde",
   "metadata": {},
   "outputs": [],
   "source": [
    "train_df = pd.read_csv(\"Corona_NLP_train.csv\", encoding='latin-1')\n",
    "test_df = pd.read_csv(\"Corona_NLP_test.csv\", encoding='latin-1')"
   ]
  },
  {
   "cell_type": "code",
   "execution_count": 3,
   "id": "67a1c225-4016-41da-ab48-6b4b2c2a1e6f",
   "metadata": {},
   "outputs": [
    {
     "data": {
      "text/plain": [
       "(3798, 6)"
      ]
     },
     "execution_count": 3,
     "metadata": {},
     "output_type": "execute_result"
    }
   ],
   "source": [
    "test_df.shape"
   ]
  },
  {
   "cell_type": "code",
   "execution_count": 4,
   "id": "50b56982-e8af-465d-b75f-c8276b270d0e",
   "metadata": {},
   "outputs": [
    {
     "data": {
      "text/plain": [
       "'E:/Aalto/Aalto Master 1st Spring 2022/DSB2/Assignment 4'"
      ]
     },
     "execution_count": 4,
     "metadata": {},
     "output_type": "execute_result"
    }
   ],
   "source": [
    "os.getcwd().replace(\"\\\\\", \"/\")"
   ]
  },
  {
   "cell_type": "code",
   "execution_count": 5,
   "id": "03f16564-e055-48e0-9c17-0dd2bd17ec73",
   "metadata": {},
   "outputs": [],
   "source": [
    "sa_lexicon = lbsa.get_lexicon(\"sa\", language = \"english\", source = \"nrc\", \n",
    "                              path = \"E:/Aalto/Aalto Master 1st Spring 2022/DSB2/Assignment 4/Lexicon-Based-Sentiment-Analysis/NRC-Emotion-Lexicon/NRC-Emotion-Lexicon-v0.92/NRC-Emotion-Lexicon-v0.92-In105Languages-Nov2017Translations.xlsx\")"
   ]
  },
  {
   "cell_type": "code",
   "execution_count": 6,
   "id": "d5e52a8f-23d5-4b65-9cdc-fa03dd85f170",
   "metadata": {},
   "outputs": [
    {
     "data": {
      "text/html": [
       "<div>\n",
       "<style scoped>\n",
       "    .dataframe tbody tr th:only-of-type {\n",
       "        vertical-align: middle;\n",
       "    }\n",
       "\n",
       "    .dataframe tbody tr th {\n",
       "        vertical-align: top;\n",
       "    }\n",
       "\n",
       "    .dataframe thead th {\n",
       "        text-align: right;\n",
       "    }\n",
       "</style>\n",
       "<table border=\"1\" class=\"dataframe\">\n",
       "  <thead>\n",
       "    <tr style=\"text-align: right;\">\n",
       "      <th></th>\n",
       "      <th>unnamed: 0</th>\n",
       "      <th>english</th>\n",
       "      <th>afrikaans</th>\n",
       "      <th>albanian</th>\n",
       "      <th>amharic</th>\n",
       "      <th>arabic</th>\n",
       "      <th>armenian</th>\n",
       "      <th>azeerbaijani</th>\n",
       "      <th>basque</th>\n",
       "      <th>belarusian</th>\n",
       "      <th>...</th>\n",
       "      <th>yoruba</th>\n",
       "      <th>zulu</th>\n",
       "      <th>anger</th>\n",
       "      <th>anticipation</th>\n",
       "      <th>disgust</th>\n",
       "      <th>fear</th>\n",
       "      <th>joy</th>\n",
       "      <th>sadness</th>\n",
       "      <th>surprise</th>\n",
       "      <th>trust</th>\n",
       "    </tr>\n",
       "  </thead>\n",
       "  <tbody>\n",
       "    <tr>\n",
       "      <th>0</th>\n",
       "      <td>0</td>\n",
       "      <td>aback</td>\n",
       "      <td>uit die veld geslaan</td>\n",
       "      <td>prapa</td>\n",
       "      <td>ተጭኗል</td>\n",
       "      <td>الى الوراء</td>\n",
       "      <td>շեղում</td>\n",
       "      <td>sanki</td>\n",
       "      <td>aback</td>\n",
       "      <td>ззаду</td>\n",
       "      <td>...</td>\n",
       "      <td>aback</td>\n",
       "      <td>back</td>\n",
       "      <td>0</td>\n",
       "      <td>0</td>\n",
       "      <td>0</td>\n",
       "      <td>0</td>\n",
       "      <td>0</td>\n",
       "      <td>0</td>\n",
       "      <td>0</td>\n",
       "      <td>0</td>\n",
       "    </tr>\n",
       "    <tr>\n",
       "      <th>1</th>\n",
       "      <td>1</td>\n",
       "      <td>abacus</td>\n",
       "      <td>abakus</td>\n",
       "      <td>numërator</td>\n",
       "      <td>abacus</td>\n",
       "      <td>طبلية تاج</td>\n",
       "      <td>անբավարարություն</td>\n",
       "      <td>abacus</td>\n",
       "      <td>abako</td>\n",
       "      <td>абака</td>\n",
       "      <td>...</td>\n",
       "      <td>abacus</td>\n",
       "      <td>Abacus</td>\n",
       "      <td>0</td>\n",
       "      <td>0</td>\n",
       "      <td>0</td>\n",
       "      <td>0</td>\n",
       "      <td>0</td>\n",
       "      <td>0</td>\n",
       "      <td>0</td>\n",
       "      <td>1</td>\n",
       "    </tr>\n",
       "    <tr>\n",
       "      <th>2</th>\n",
       "      <td>2</td>\n",
       "      <td>abandon</td>\n",
       "      <td>verlaat</td>\n",
       "      <td>braktis</td>\n",
       "      <td>ውጣ</td>\n",
       "      <td>تخلى</td>\n",
       "      <td>լքել</td>\n",
       "      <td>tərk et</td>\n",
       "      <td>bertan behera</td>\n",
       "      <td>адмовіцца ад</td>\n",
       "      <td>...</td>\n",
       "      <td>kọ silẹ</td>\n",
       "      <td>shiya</td>\n",
       "      <td>0</td>\n",
       "      <td>0</td>\n",
       "      <td>0</td>\n",
       "      <td>1</td>\n",
       "      <td>0</td>\n",
       "      <td>1</td>\n",
       "      <td>0</td>\n",
       "      <td>0</td>\n",
       "    </tr>\n",
       "    <tr>\n",
       "      <th>3</th>\n",
       "      <td>3</td>\n",
       "      <td>abandoned</td>\n",
       "      <td>verlate</td>\n",
       "      <td>braktisur</td>\n",
       "      <td>ተትቷል</td>\n",
       "      <td>مهجور</td>\n",
       "      <td>լքված</td>\n",
       "      <td>tərk etdi</td>\n",
       "      <td>abandonatutako</td>\n",
       "      <td>закінуты</td>\n",
       "      <td>...</td>\n",
       "      <td>abandoned</td>\n",
       "      <td>ishiyiwe</td>\n",
       "      <td>1</td>\n",
       "      <td>0</td>\n",
       "      <td>0</td>\n",
       "      <td>1</td>\n",
       "      <td>0</td>\n",
       "      <td>1</td>\n",
       "      <td>0</td>\n",
       "      <td>0</td>\n",
       "    </tr>\n",
       "    <tr>\n",
       "      <th>4</th>\n",
       "      <td>4</td>\n",
       "      <td>abandonment</td>\n",
       "      <td>verlating</td>\n",
       "      <td>braktisje</td>\n",
       "      <td>ማቋረጥ</td>\n",
       "      <td>التخلي عن</td>\n",
       "      <td>հրաժարվելով</td>\n",
       "      <td>ləğv</td>\n",
       "      <td>abandono</td>\n",
       "      <td>пакіданне</td>\n",
       "      <td>...</td>\n",
       "      <td>abandonment</td>\n",
       "      <td>ukushiya</td>\n",
       "      <td>1</td>\n",
       "      <td>0</td>\n",
       "      <td>0</td>\n",
       "      <td>1</td>\n",
       "      <td>0</td>\n",
       "      <td>1</td>\n",
       "      <td>1</td>\n",
       "      <td>0</td>\n",
       "    </tr>\n",
       "    <tr>\n",
       "      <th>...</th>\n",
       "      <td>...</td>\n",
       "      <td>...</td>\n",
       "      <td>...</td>\n",
       "      <td>...</td>\n",
       "      <td>...</td>\n",
       "      <td>...</td>\n",
       "      <td>...</td>\n",
       "      <td>...</td>\n",
       "      <td>...</td>\n",
       "      <td>...</td>\n",
       "      <td>...</td>\n",
       "      <td>...</td>\n",
       "      <td>...</td>\n",
       "      <td>...</td>\n",
       "      <td>...</td>\n",
       "      <td>...</td>\n",
       "      <td>...</td>\n",
       "      <td>...</td>\n",
       "      <td>...</td>\n",
       "      <td>...</td>\n",
       "      <td>...</td>\n",
       "    </tr>\n",
       "    <tr>\n",
       "      <th>14177</th>\n",
       "      <td>14177</td>\n",
       "      <td>zone</td>\n",
       "      <td>sone</td>\n",
       "      <td>zonë</td>\n",
       "      <td>ዞን</td>\n",
       "      <td>منطقة</td>\n",
       "      <td>գոտի</td>\n",
       "      <td>zona</td>\n",
       "      <td>zona</td>\n",
       "      <td>зона</td>\n",
       "      <td>...</td>\n",
       "      <td>ibi kan</td>\n",
       "      <td>indawo</td>\n",
       "      <td>0</td>\n",
       "      <td>0</td>\n",
       "      <td>0</td>\n",
       "      <td>0</td>\n",
       "      <td>0</td>\n",
       "      <td>0</td>\n",
       "      <td>0</td>\n",
       "      <td>0</td>\n",
       "    </tr>\n",
       "    <tr>\n",
       "      <th>14178</th>\n",
       "      <td>14178</td>\n",
       "      <td>zoo</td>\n",
       "      <td>dieretuin</td>\n",
       "      <td>kopsht zoologjik</td>\n",
       "      <td>መናፈሻ</td>\n",
       "      <td>حديقة حيوان</td>\n",
       "      <td>գազանանոց</td>\n",
       "      <td>zoo</td>\n",
       "      <td>zoologiko</td>\n",
       "      <td>заапарк</td>\n",
       "      <td>...</td>\n",
       "      <td>Ile ifihan oniruuru ẹranko</td>\n",
       "      <td>i-zoo</td>\n",
       "      <td>0</td>\n",
       "      <td>0</td>\n",
       "      <td>0</td>\n",
       "      <td>0</td>\n",
       "      <td>0</td>\n",
       "      <td>0</td>\n",
       "      <td>0</td>\n",
       "      <td>0</td>\n",
       "    </tr>\n",
       "    <tr>\n",
       "      <th>14179</th>\n",
       "      <td>14179</td>\n",
       "      <td>zoological</td>\n",
       "      <td>dierkundige</td>\n",
       "      <td>zoologjik</td>\n",
       "      <td>ዞኦሎጂካል</td>\n",
       "      <td>حيواني</td>\n",
       "      <td>կենդանաբանական</td>\n",
       "      <td>zooloji</td>\n",
       "      <td>zoologiko</td>\n",
       "      <td>заалагічны</td>\n",
       "      <td>...</td>\n",
       "      <td>zoological</td>\n",
       "      <td>zoological</td>\n",
       "      <td>0</td>\n",
       "      <td>0</td>\n",
       "      <td>0</td>\n",
       "      <td>0</td>\n",
       "      <td>0</td>\n",
       "      <td>0</td>\n",
       "      <td>0</td>\n",
       "      <td>0</td>\n",
       "    </tr>\n",
       "    <tr>\n",
       "      <th>14180</th>\n",
       "      <td>14180</td>\n",
       "      <td>zoology</td>\n",
       "      <td>dierkunde</td>\n",
       "      <td>zoologji</td>\n",
       "      <td>ዞኦሎጂ</td>\n",
       "      <td>علم الحيوان</td>\n",
       "      <td>կենդանաբանություն</td>\n",
       "      <td>zooloji</td>\n",
       "      <td>zoology</td>\n",
       "      <td>заалогія</td>\n",
       "      <td>...</td>\n",
       "      <td>Ẹkọ</td>\n",
       "      <td>i-zoology</td>\n",
       "      <td>0</td>\n",
       "      <td>0</td>\n",
       "      <td>0</td>\n",
       "      <td>0</td>\n",
       "      <td>0</td>\n",
       "      <td>0</td>\n",
       "      <td>0</td>\n",
       "      <td>0</td>\n",
       "    </tr>\n",
       "    <tr>\n",
       "      <th>14181</th>\n",
       "      <td>14181</td>\n",
       "      <td>zoom</td>\n",
       "      <td>Klik op</td>\n",
       "      <td>zoom</td>\n",
       "      <td>አጉላ</td>\n",
       "      <td>تكبير</td>\n",
       "      <td>խոշորացում</td>\n",
       "      <td>zoom</td>\n",
       "      <td>zoom</td>\n",
       "      <td>зум</td>\n",
       "      <td>...</td>\n",
       "      <td>zoom</td>\n",
       "      <td>ukusondeza</td>\n",
       "      <td>0</td>\n",
       "      <td>0</td>\n",
       "      <td>0</td>\n",
       "      <td>0</td>\n",
       "      <td>0</td>\n",
       "      <td>0</td>\n",
       "      <td>0</td>\n",
       "      <td>0</td>\n",
       "    </tr>\n",
       "  </tbody>\n",
       "</table>\n",
       "<p>14182 rows × 114 columns</p>\n",
       "</div>"
      ],
      "text/plain": [
       "       unnamed: 0      english             afrikaans          albanian  \\\n",
       "0               0        aback  uit die veld geslaan             prapa   \n",
       "1               1       abacus                abakus         numërator   \n",
       "2               2      abandon               verlaat           braktis   \n",
       "3               3    abandoned               verlate         braktisur   \n",
       "4               4  abandonment             verlating         braktisje   \n",
       "...           ...          ...                   ...               ...   \n",
       "14177       14177         zone                  sone              zonë   \n",
       "14178       14178          zoo             dieretuin  kopsht zoologjik   \n",
       "14179       14179   zoological           dierkundige         zoologjik   \n",
       "14180       14180      zoology             dierkunde          zoologji   \n",
       "14181       14181         zoom               Klik op              zoom   \n",
       "\n",
       "      amharic       arabic           armenian azeerbaijani          basque  \\\n",
       "0        ተጭኗል   الى الوراء             շեղում        sanki           aback   \n",
       "1      abacus    طبلية تاج   անբավարարություն       abacus           abako   \n",
       "2          ውጣ         تخلى               լքել      tərk et   bertan behera   \n",
       "3        ተትቷል        مهجور              լքված    tərk etdi  abandonatutako   \n",
       "4        ማቋረጥ    التخلي عن        հրաժարվելով         ləğv        abandono   \n",
       "...       ...          ...                ...          ...             ...   \n",
       "14177      ዞን        منطقة               գոտի         zona            zona   \n",
       "14178    መናፈሻ  حديقة حيوان          գազանանոց          zoo       zoologiko   \n",
       "14179  ዞኦሎጂካል       حيواني     կենդանաբանական      zooloji       zoologiko   \n",
       "14180    ዞኦሎጂ  علم الحيوان  կենդանաբանություն      zooloji         zoology   \n",
       "14181     አጉላ        تكبير         խոշորացում         zoom            zoom   \n",
       "\n",
       "         belarusian  ...                      yoruba        zulu anger  \\\n",
       "0             ззаду  ...                       aback        back     0   \n",
       "1             абака  ...                      abacus      Abacus     0   \n",
       "2      адмовіцца ад  ...                     kọ silẹ       shiya     0   \n",
       "3          закінуты  ...                   abandoned    ishiyiwe     1   \n",
       "4         пакіданне  ...                 abandonment    ukushiya     1   \n",
       "...             ...  ...                         ...         ...   ...   \n",
       "14177          зона  ...                     ibi kan      indawo     0   \n",
       "14178       заапарк  ...  Ile ifihan oniruuru ẹranko       i-zoo     0   \n",
       "14179    заалагічны  ...                  zoological  zoological     0   \n",
       "14180      заалогія  ...                         Ẹkọ   i-zoology     0   \n",
       "14181           зум  ...                        zoom  ukusondeza     0   \n",
       "\n",
       "      anticipation disgust fear joy sadness surprise trust  \n",
       "0                0       0    0   0       0        0     0  \n",
       "1                0       0    0   0       0        0     1  \n",
       "2                0       0    1   0       1        0     0  \n",
       "3                0       0    1   0       1        0     0  \n",
       "4                0       0    1   0       1        1     0  \n",
       "...            ...     ...  ...  ..     ...      ...   ...  \n",
       "14177            0       0    0   0       0        0     0  \n",
       "14178            0       0    0   0       0        0     0  \n",
       "14179            0       0    0   0       0        0     0  \n",
       "14180            0       0    0   0       0        0     0  \n",
       "14181            0       0    0   0       0        0     0  \n",
       "\n",
       "[14182 rows x 114 columns]"
      ]
     },
     "execution_count": 6,
     "metadata": {},
     "output_type": "execute_result"
    }
   ],
   "source": [
    "sa_lexicon.dataframe"
   ]
  },
  {
   "cell_type": "code",
   "execution_count": 7,
   "id": "f8d94210-15a1-4e6a-b195-bea8122a1593",
   "metadata": {},
   "outputs": [
    {
     "data": {
      "text/plain": [
       "anger           1247\n",
       "anticipation     839\n",
       "disgust         1058\n",
       "fear            1476\n",
       "joy              689\n",
       "sadness         1191\n",
       "surprise         534\n",
       "trust           1231\n",
       "dtype: int64"
      ]
     },
     "execution_count": 7,
     "metadata": {},
     "output_type": "execute_result"
    }
   ],
   "source": [
    "sa_lexicon.dataframe[[\"anger\", \"anticipation\", \"disgust\", \"fear\", \"joy\", \"sadness\", \"surprise\", \"trust\"]].sum(axis=0)"
   ]
  },
  {
   "cell_type": "code",
   "execution_count": 8,
   "id": "dced387d-a263-4bd4-a527-d11db20e9a4b",
   "metadata": {},
   "outputs": [
    {
     "data": {
      "text/html": [
       "<div>\n",
       "<style scoped>\n",
       "    .dataframe tbody tr th:only-of-type {\n",
       "        vertical-align: middle;\n",
       "    }\n",
       "\n",
       "    .dataframe tbody tr th {\n",
       "        vertical-align: top;\n",
       "    }\n",
       "\n",
       "    .dataframe thead th {\n",
       "        text-align: right;\n",
       "    }\n",
       "</style>\n",
       "<table border=\"1\" class=\"dataframe\">\n",
       "  <thead>\n",
       "    <tr style=\"text-align: right;\">\n",
       "      <th></th>\n",
       "      <th>UserName</th>\n",
       "      <th>ScreenName</th>\n",
       "      <th>Location</th>\n",
       "      <th>TweetAt</th>\n",
       "      <th>OriginalTweet</th>\n",
       "      <th>Sentiment</th>\n",
       "    </tr>\n",
       "  </thead>\n",
       "  <tbody>\n",
       "    <tr>\n",
       "      <th>0</th>\n",
       "      <td>3799</td>\n",
       "      <td>48751</td>\n",
       "      <td>London</td>\n",
       "      <td>16-03-2020</td>\n",
       "      <td>@MeNyrbie @Phil_Gahan @Chrisitv https://t.co/i...</td>\n",
       "      <td>Neutral</td>\n",
       "    </tr>\n",
       "    <tr>\n",
       "      <th>1</th>\n",
       "      <td>3800</td>\n",
       "      <td>48752</td>\n",
       "      <td>UK</td>\n",
       "      <td>16-03-2020</td>\n",
       "      <td>advice Talk to your neighbours family to excha...</td>\n",
       "      <td>Positive</td>\n",
       "    </tr>\n",
       "    <tr>\n",
       "      <th>2</th>\n",
       "      <td>3801</td>\n",
       "      <td>48753</td>\n",
       "      <td>Vagabonds</td>\n",
       "      <td>16-03-2020</td>\n",
       "      <td>Coronavirus Australia: Woolworths to give elde...</td>\n",
       "      <td>Positive</td>\n",
       "    </tr>\n",
       "    <tr>\n",
       "      <th>3</th>\n",
       "      <td>3802</td>\n",
       "      <td>48754</td>\n",
       "      <td>NaN</td>\n",
       "      <td>16-03-2020</td>\n",
       "      <td>My food stock is not the only one which is emp...</td>\n",
       "      <td>Positive</td>\n",
       "    </tr>\n",
       "    <tr>\n",
       "      <th>4</th>\n",
       "      <td>3803</td>\n",
       "      <td>48755</td>\n",
       "      <td>NaN</td>\n",
       "      <td>16-03-2020</td>\n",
       "      <td>Me, ready to go at supermarket during the #COV...</td>\n",
       "      <td>Extremely Negative</td>\n",
       "    </tr>\n",
       "  </tbody>\n",
       "</table>\n",
       "</div>"
      ],
      "text/plain": [
       "   UserName  ScreenName   Location     TweetAt  \\\n",
       "0      3799       48751     London  16-03-2020   \n",
       "1      3800       48752         UK  16-03-2020   \n",
       "2      3801       48753  Vagabonds  16-03-2020   \n",
       "3      3802       48754        NaN  16-03-2020   \n",
       "4      3803       48755        NaN  16-03-2020   \n",
       "\n",
       "                                       OriginalTweet           Sentiment  \n",
       "0  @MeNyrbie @Phil_Gahan @Chrisitv https://t.co/i...             Neutral  \n",
       "1  advice Talk to your neighbours family to excha...            Positive  \n",
       "2  Coronavirus Australia: Woolworths to give elde...            Positive  \n",
       "3  My food stock is not the only one which is emp...            Positive  \n",
       "4  Me, ready to go at supermarket during the #COV...  Extremely Negative  "
      ]
     },
     "execution_count": 8,
     "metadata": {},
     "output_type": "execute_result"
    }
   ],
   "source": [
    "train_df.head()"
   ]
  },
  {
   "cell_type": "code",
   "execution_count": 9,
   "id": "9964f913-dbfb-44c4-a0e9-df152f55fffa",
   "metadata": {},
   "outputs": [
    {
     "data": {
      "image/png": "[encoded data removed]",
      "text/plain": [
       "<Figure size 648x432 with 1 Axes>"
      ]
     },
     "metadata": {},
     "output_type": "display_data"
    }
   ],
   "source": [
    "import seaborn as sns\n",
    "import matplotlib.pyplot as plt\n",
    "%matplotlib inline\n",
    "\n",
    "sns.set(style=\"darkgrid\")\n",
    "sns.set(font_scale=1.3)\n",
    "\n",
    "target_dist = sns.catplot(x='Sentiment', data=train_df, kind=\"count\", height=6, aspect=1.5, palette=\"PuBuGn_d\")\n",
    "plt.show()"
   ]
  },
  {
   "cell_type": "code",
   "execution_count": 10,
   "id": "43febcba-adf0-4aa8-94fb-6d3ce221f9d2",
   "metadata": {},
   "outputs": [
    {
     "data": {
      "image/png": "[encoded data removed]",
      "text/plain": [
       "<Figure size 648x432 with 1 Axes>"
      ]
     },
     "metadata": {},
     "output_type": "display_data"
    }
   ],
   "source": [
    "import seaborn as sns\n",
    "import matplotlib.pyplot as plt\n",
    "%matplotlib inline\n",
    "\n",
    "sns.set(style=\"darkgrid\")\n",
    "sns.set(font_scale=1.3)\n",
    "\n",
    "target_dist = sns.catplot(x='Sentiment', data=test_df, kind=\"count\", height=6, aspect=1.5, palette=\"PuBuGn_d\")\n",
    "plt.show()\n"
   ]
  },
  {
   "cell_type": "code",
   "execution_count": 11,
   "id": "b8d1bdfc-1c49-4a9e-baea-a29971ddebb3",
   "metadata": {},
   "outputs": [
    {
     "data": {
      "image/png": "[encoded data removed]",
      "text/plain": [
       "<Figure size 864x432 with 1 Axes>"
      ]
     },
     "metadata": {},
     "output_type": "display_data"
    }
   ],
   "source": [
    "palette=sns.color_palette('magma')\n",
    "sns.set(palette=palette)\n",
    "plt.figure(figsize=(12,6))\n",
    "plt.title('Top 10 cities with highest Tweets')\n",
    "countries =sns.countplot(x='Location', data=train_df, order=train_df['Location'].value_counts().index[:10], palette=palette)\n",
    "countries.set_xticklabels(countries.get_xticklabels(), rotation=45)\n",
    "plt.show() "
   ]
  },
  {
   "cell_type": "code",
   "execution_count": 12,
   "id": "f0d7f572-9ee3-425c-a7bb-f38874ebeacc",
   "metadata": {},
   "outputs": [
    {
     "data": {
      "text/html": [
       "<div>\n",
       "<style scoped>\n",
       "    .dataframe tbody tr th:only-of-type {\n",
       "        vertical-align: middle;\n",
       "    }\n",
       "\n",
       "    .dataframe tbody tr th {\n",
       "        vertical-align: top;\n",
       "    }\n",
       "\n",
       "    .dataframe thead th {\n",
       "        text-align: right;\n",
       "    }\n",
       "</style>\n",
       "<table border=\"1\" class=\"dataframe\">\n",
       "  <thead>\n",
       "    <tr style=\"text-align: right;\">\n",
       "      <th></th>\n",
       "      <th>UserName</th>\n",
       "      <th>ScreenName</th>\n",
       "      <th>Location</th>\n",
       "      <th>TweetAt</th>\n",
       "      <th>OriginalTweet</th>\n",
       "      <th>Sentiment</th>\n",
       "    </tr>\n",
       "  </thead>\n",
       "  <tbody>\n",
       "    <tr>\n",
       "      <th>0</th>\n",
       "      <td>3799</td>\n",
       "      <td>48751</td>\n",
       "      <td>London</td>\n",
       "      <td>16-03-2020</td>\n",
       "      <td>@MeNyrbie @Phil_Gahan @Chrisitv https://t.co/i...</td>\n",
       "      <td>Neutral</td>\n",
       "    </tr>\n",
       "    <tr>\n",
       "      <th>1</th>\n",
       "      <td>3800</td>\n",
       "      <td>48752</td>\n",
       "      <td>UK</td>\n",
       "      <td>16-03-2020</td>\n",
       "      <td>advice Talk to your neighbours family to excha...</td>\n",
       "      <td>Positive</td>\n",
       "    </tr>\n",
       "    <tr>\n",
       "      <th>2</th>\n",
       "      <td>3801</td>\n",
       "      <td>48753</td>\n",
       "      <td>Vagabonds</td>\n",
       "      <td>16-03-2020</td>\n",
       "      <td>Coronavirus Australia: Woolworths to give elde...</td>\n",
       "      <td>Positive</td>\n",
       "    </tr>\n",
       "    <tr>\n",
       "      <th>3</th>\n",
       "      <td>3802</td>\n",
       "      <td>48754</td>\n",
       "      <td>NaN</td>\n",
       "      <td>16-03-2020</td>\n",
       "      <td>My food stock is not the only one which is emp...</td>\n",
       "      <td>Positive</td>\n",
       "    </tr>\n",
       "    <tr>\n",
       "      <th>4</th>\n",
       "      <td>3803</td>\n",
       "      <td>48755</td>\n",
       "      <td>NaN</td>\n",
       "      <td>16-03-2020</td>\n",
       "      <td>Me, ready to go at supermarket during the #COV...</td>\n",
       "      <td>Extremely Negative</td>\n",
       "    </tr>\n",
       "  </tbody>\n",
       "</table>\n",
       "</div>"
      ],
      "text/plain": [
       "   UserName  ScreenName   Location     TweetAt  \\\n",
       "0      3799       48751     London  16-03-2020   \n",
       "1      3800       48752         UK  16-03-2020   \n",
       "2      3801       48753  Vagabonds  16-03-2020   \n",
       "3      3802       48754        NaN  16-03-2020   \n",
       "4      3803       48755        NaN  16-03-2020   \n",
       "\n",
       "                                       OriginalTweet           Sentiment  \n",
       "0  @MeNyrbie @Phil_Gahan @Chrisitv https://t.co/i...             Neutral  \n",
       "1  advice Talk to your neighbours family to excha...            Positive  \n",
       "2  Coronavirus Australia: Woolworths to give elde...            Positive  \n",
       "3  My food stock is not the only one which is emp...            Positive  \n",
       "4  Me, ready to go at supermarket during the #COV...  Extremely Negative  "
      ]
     },
     "execution_count": 12,
     "metadata": {},
     "output_type": "execute_result"
    }
   ],
   "source": [
    "train_df.head()"
   ]
  },
  {
   "cell_type": "code",
   "execution_count": 13,
   "id": "904adab7-5d66-4532-9b4a-5297a5e09a3b",
   "metadata": {},
   "outputs": [
    {
     "data": {
      "text/plain": [
       "'\\nfrom wordcloud import WordCloud\\nfor label, cmap in zip([\\'Positive\\', \\'Negative\\', \\'Neutral\\', \\'Extremely Positive\\', \\'Extremely Negative\\'],\\n                       [\\'winter\\', \\'autumn\\', \\'magma\\', \\'viridis\\', \\'plasma\\']):\\n    text = train_df.query(\\'Sentiment == @label\\')[\\'OriginalTweet\\'].str.cat(sep=\\' \\')\\n    plt.figure(figsize=(10, 6))\\n    wc = WordCloud(width=1000, height=600, background_color=\"#f8f8f8\", colormap=cmap)\\n    wc.generate_from_text(text)\\n    plt.imshow(wc)\\n    plt.axis(\"off\")\\n    plt.title(f\"Words Commonly Used in ${label}$ Messages\", size=20)\\n    plt.show()\\n    '"
      ]
     },
     "execution_count": 13,
     "metadata": {},
     "output_type": "execute_result"
    }
   ],
   "source": [
    "'''\n",
    "from wordcloud import WordCloud\n",
    "for label, cmap in zip(['Positive', 'Negative', 'Neutral', 'Extremely Positive', 'Extremely Negative'],\n",
    "                       ['winter', 'autumn', 'magma', 'viridis', 'plasma']):\n",
    "    text = train_df.query('Sentiment == @label')['OriginalTweet'].str.cat(sep=' ')\n",
    "    plt.figure(figsize=(10, 6))\n",
    "    wc = WordCloud(width=1000, height=600, background_color=\"#f8f8f8\", colormap=cmap)\n",
    "    wc.generate_from_text(text)\n",
    "    plt.imshow(wc)\n",
    "    plt.axis(\"off\")\n",
    "    plt.title(f\"Words Commonly Used in ${label}$ Messages\", size=20)\n",
    "    plt.show()\n",
    "    '''"
   ]
  },
  {
   "cell_type": "markdown",
   "id": "47807694-07f3-47e1-b6d6-a0899c7367e4",
   "metadata": {},
   "source": [
    "## a) Extract lexicon-based features. Describe whether there is any lexicon-based feature that has some level of relation to the sentiment. Explain your reasoning."
   ]
  },
  {
   "cell_type": "code",
   "execution_count": 14,
   "id": "1e39e972-676a-478c-9e79-71ba33e2f21c",
   "metadata": {},
   "outputs": [],
   "source": [
    "afinn_lexicon = lbsa.get_lexicon('opinion', language='english', source='afinn')\n",
    "nrc_lexicon = lbsa.get_lexicon('opinion', language='english', source='nrc')\n",
    "nrc_sa_lexicon = lbsa.get_lexicon('sa', language='english', source='nrc')\n",
    "mpqa_lexicon = lbsa.get_lexicon('opinion', language='english', source='mpqa')\n",
    "\n",
    "sa_extractor = lbsa.FeatureExtractor(afinn_lexicon, nrc_lexicon, nrc_sa_lexicon, mpqa_lexicon)\n",
    "feat_dat_train = pd.DataFrame(sa_extractor.process(train_df['OriginalTweet']),columns=sa_extractor.feature_names)\n",
    "feat_dat_test = pd.DataFrame(sa_extractor.process(test_df['OriginalTweet']),columns=sa_extractor.feature_names)"
   ]
  },
  {
   "cell_type": "markdown",
   "id": "08464c30-c2bc-49dc-80ff-62d69ba6f2ce",
   "metadata": {},
   "source": [
    "## Apply Data Preprocessing onto also the test_df "
   ]
  },
  {
   "cell_type": "code",
   "execution_count": 15,
   "id": "5bfb31fd-cc91-440d-8ad3-ec6f46bc84eb",
   "metadata": {},
   "outputs": [],
   "source": [
    "train_df[\"Sentiment\"] = train_df[\"Sentiment\"].map({'Extremely Negative':\"Negative\",'Negative':\"Negative\",'Neutral':\"Neutral\",'Positive':\"Positive\",'Extremely Positive': \"Positive\"})\n",
    "test_df[\"Sentiment\"] = test_df[\"Sentiment\"].map({'Extremely Negative':\"Negative\",'Negative':\"Negative\",'Neutral':\"Neutral\",'Positive':\"Positive\",'Extremely Positive': \"Positive\"})"
   ]
  },
  {
   "cell_type": "code",
   "execution_count": 16,
   "id": "4696daa6-f56e-4da1-b75f-ddd5eab75c23",
   "metadata": {},
   "outputs": [
    {
     "data": {
      "text/plain": [
       "'\\nfor feature in sa_extractor.feature_names:\\n    show_dist(df_eda, feature)\\n'"
      ]
     },
     "execution_count": 16,
     "metadata": {},
     "output_type": "execute_result"
    }
   ],
   "source": [
    "def show_dist(df, col):\n",
    "    print('Descriptive stats for {}'.format(col))\n",
    "    print('-'*(len(col)+22))\n",
    "    print(df.groupby('Sentiment')[col].describe())\n",
    "    bins = np.arange(df[col].min(), df[col].max() + 1)\n",
    "    g = sns.FacetGrid(df, col='Sentiment', height=5, hue='Sentiment', palette=\"PuBuGn_d\")\n",
    "    g = g.map(sns.distplot, col, kde=False, norm_hist=True, bins=bins)\n",
    "    plt.show()\n",
    "\n",
    "df_eda_train = pd.concat([train_df,feat_dat_train],axis=1)\n",
    "df_eda_test = pd.concat([test_df,feat_dat_test],axis=1)\n",
    "\n",
    "'''\n",
    "for feature in sa_extractor.feature_names:\n",
    "    show_dist(df_eda, feature)\n",
    "'''"
   ]
  },
  {
   "cell_type": "markdown",
   "id": "a079074d-7a4f-4531-a776-0adc169ea5d8",
   "metadata": {},
   "source": [
    "## b) Clean the text. Describe each step that you went through and explain why those steps are needed. (Perform at least 5 steps)"
   ]
  },
  {
   "cell_type": "markdown",
   "id": "69a31792-9995-4da1-b625-d9861c69f370",
   "metadata": {},
   "source": [
    "## Step 3: Cleaning the text - a traditional approach\n",
    "\n",
    "Text cleaning often includes following steps\n",
    "- lowercasing\n",
    "- removal of punctuations, question and exclamation marks\n",
    "- removal of urls\n",
    "- removal of digits\n",
    "- removal of stopwords\n",
    "- apply stemming (e.g., PorterStemmer) or lemmatization\n",
    "(https://nlp.stanford.edu/IR-book/html/htmledition/stemming-and-lemmatization-1.html)"
   ]
  },
  {
   "cell_type": "code",
   "execution_count": 17,
   "id": "ea715d0f-161d-437e-9dc1-fc6f9e9b765b",
   "metadata": {},
   "outputs": [],
   "source": [
    "from sklearn.base import BaseEstimator, TransformerMixin\n",
    "\n",
    "import re, string, os, emoji\n",
    "\n",
    "from nltk.corpus import stopwords\n",
    "from nltk.stem import PorterStemmer\n",
    "from nltk.tokenize import word_tokenize\n",
    "\n",
    "class CleanText(BaseEstimator, TransformerMixin):\n",
    "   \n",
    "    def remove_mentions(self, input_text):\n",
    "        return re.sub(r'@\\w+', '', input_text)\n",
    "    \n",
    "    def remove_urls(self, input_text):\n",
    "        return re.sub(r'http.?://[^\\s]+[\\s]?', '', input_text)\n",
    "    \n",
    "    def emoji_oneword(self, input_text):\n",
    "        # By compressing the underscore, the emoji is kept as one word\n",
    "        return input_text.replace('_','')\n",
    "    \n",
    "    def remove_punctuation(self, input_text):\n",
    "        # Make translation table\n",
    "        punct = string.punctuation\n",
    "        trantab = str.maketrans(punct, len(punct)*' ')  # Every punctuation symbol will be replaced by a space\n",
    "        return input_text.translate(trantab)\n",
    "\n",
    "    def remove_digits(self, input_text):\n",
    "        return re.sub(r'\\d+', '', input_text)\n",
    "    \n",
    "    def to_lower(self, input_text):\n",
    "        return input_text.lower()\n",
    "    \n",
    "    def remove_stopwords(self, input_text):\n",
    "        stopwords_list = stopwords.words('english')\n",
    "        # Some words which might indicate a certain sentiment are kept via a whitelist\n",
    "        whitelist = [\"n't\", \"not\", \"no\"]\n",
    "        words = input_text.split() \n",
    "        clean_words = [word for word in words if (word not in stopwords_list or word in whitelist) and len(word) > 1] \n",
    "        return \" \".join(clean_words) \n",
    "    \n",
    "    def stemming(self, input_text):\n",
    "        porter = PorterStemmer()\n",
    "        words = input_text.split() \n",
    "        stemmed_words = [porter.stem(word) for word in words]\n",
    "        return \" \".join(stemmed_words)\n",
    "    \n",
    "    def fit(self, X, y=None, **fit_params):\n",
    "        return self\n",
    "    \n",
    "    def transform(self, X, **transform_params):\n",
    "        clean_X = X.apply(self.remove_mentions).apply(self.remove_urls).apply(self.emoji_oneword).apply(self.remove_punctuation).apply(self.remove_digits).apply(self.to_lower).apply(self.remove_stopwords).apply(self.stemming)\n",
    "        return clean_X"
   ]
  },
  {
   "cell_type": "code",
   "execution_count": 18,
   "id": "2c03d13f-8e4d-4fa8-aa70-f33731e61c45",
   "metadata": {},
   "outputs": [
    {
     "name": "stdout",
     "output_type": "stream",
     "text": [
      "6230     consum financi protect bureau cfpb creat numbe...\n",
      "38329                       protect supermarket coronaviru\n",
      "1712     presid ban hike commod season covid padem acce...\n",
      "19234    pleas join bloombergintellig consum team march...\n",
      "33335    canât believ toilet paper flex would known de...\n",
      "Name: OriginalTweet, dtype: object\n",
      "34 records have no words left after text cleaning\n"
     ]
    }
   ],
   "source": [
    "ct = CleanText()\n",
    "sent_clean = ct.fit_transform(train_df.OriginalTweet)\n",
    "print(sent_clean.sample(5))\n",
    "empty_clean = sent_clean == ''\n",
    "print('{} records have no words left after text cleaning'.format(sent_clean[empty_clean].count()))\n",
    "sent_clean.loc[empty_clean] = '[no_text]'"
   ]
  },
  {
   "cell_type": "code",
   "execution_count": 19,
   "id": "03744b7e-260c-4e74-9b35-a061119efb6f",
   "metadata": {},
   "outputs": [
    {
     "name": "stdout",
     "output_type": "stream",
     "text": [
      "2 records have no words left after text cleaning\n"
     ]
    }
   ],
   "source": [
    "sent_clean_test = ct.transform(test_df.OriginalTweet)\n",
    "empty_clean_test = sent_clean_test == ''\n",
    "print('{} records have no words left after text cleaning'.format(sent_clean_test[empty_clean_test].count()))\n",
    "sent_clean_test.loc[empty_clean_test] = '[no_text]'"
   ]
  },
  {
   "cell_type": "markdown",
   "id": "34e961eb-1517-45a7-970b-f71b222970fe",
   "metadata": {},
   "source": [
    "## c) Create BOW representation of the data. Identify the most common words and visualize. Discuss whether the result is reasonable."
   ]
  },
  {
   "cell_type": "code",
   "execution_count": 20,
   "id": "d54a6745-5382-49e1-9719-fb864167b551",
   "metadata": {},
   "outputs": [
    {
     "name": "stderr",
     "output_type": "stream",
     "text": [
      "C:\\Users\\llmkh\\AppData\\Roaming\\Python\\Python38\\site-packages\\sklearn\\utils\\deprecation.py:87: FutureWarning: Function get_feature_names is deprecated; get_feature_names is deprecated in 1.0 and will be removed in 1.2. Please use get_feature_names_out instead.\n",
      "  warnings.warn(msg, category=FutureWarning)\n"
     ]
    },
    {
     "data": {
      "image/png": "[encoded data removed]",
      "text/plain": [
       "<Figure size 1440x1080 with 1 Axes>"
      ]
     },
     "metadata": {},
     "output_type": "display_data"
    }
   ],
   "source": [
    "from sklearn.feature_extraction.text import CountVectorizer\n",
    "import collections\n",
    "\n",
    "cv = CountVectorizer()\n",
    "bow = cv.fit_transform(sent_clean)\n",
    "word_freq = dict(zip(cv.get_feature_names(), np.asarray(bow.sum(axis=0)).ravel()))\n",
    "word_counter = collections.Counter(word_freq)\n",
    "word_counter_df = pd.DataFrame(word_counter.most_common(20), columns = ['word', 'freq'])\n",
    "\n",
    "fig, ax = plt.subplots(figsize=(20, 15))\n",
    "bar_freq_word = sns.barplot(x=\"word\", y=\"freq\", data=word_counter_df, palette=\"PuBuGn_d\", ax=ax)\n",
    "plt.show();"
   ]
  },
  {
   "cell_type": "code",
   "execution_count": 21,
   "id": "22fca0c0-ddde-4a94-a82b-802fd1f2fe31",
   "metadata": {},
   "outputs": [],
   "source": [
    "#sent_clean"
   ]
  },
  {
   "cell_type": "code",
   "execution_count": 22,
   "id": "37912958-6a8d-4432-bfad-77e2c7c75498",
   "metadata": {},
   "outputs": [],
   "source": [
    "df_model = df_eda_train\n",
    "df_model['clean_text'] = sent_clean\n",
    "#df_model.columns.tolist()"
   ]
  },
  {
   "cell_type": "code",
   "execution_count": 23,
   "id": "c1bc6ad6-e676-4440-9bd5-4c53666b8aa7",
   "metadata": {},
   "outputs": [],
   "source": [
    "test_df[\"clean_text\"] = sent_clean_test"
   ]
  },
  {
   "cell_type": "code",
   "execution_count": 24,
   "id": "e9e5a238-e551-4ae6-a69c-42ddc5223cb3",
   "metadata": {},
   "outputs": [],
   "source": [
    "class ColumnExtractor(TransformerMixin, BaseEstimator):\n",
    "    def __init__(self, cols):\n",
    "        self.cols = cols\n",
    "\n",
    "    def transform(self, X, **transform_params):\n",
    "        return X[self.cols]\n",
    "\n",
    "    def fit(self, X, y=None, **fit_params):\n",
    "        return self"
   ]
  },
  {
   "cell_type": "code",
   "execution_count": 25,
   "id": "3d0f97bf-f0d3-4db9-9d90-30cdcf251c49",
   "metadata": {},
   "outputs": [],
   "source": [
    "from sklearn.model_selection import train_test_split\n",
    "X_train, X_valid, y_train, y_valid = train_test_split(df_model.drop('Sentiment', axis=1), df_model.Sentiment, test_size=0.1, random_state=30)"
   ]
  },
  {
   "cell_type": "code",
   "execution_count": 26,
   "id": "1cfbe377-bff5-4cd8-9dbc-b8bca44c0187",
   "metadata": {},
   "outputs": [],
   "source": [
    "from sklearn.pipeline import Pipeline, FeatureUnion\n",
    "from sklearn.metrics import classification_report\n",
    "\n",
    "from sklearn.naive_bayes import MultinomialNB\n",
    "from sklearn.linear_model import LogisticRegression\n",
    "\n",
    "mnb = MultinomialNB()\n",
    "logreg = LogisticRegression(max_iter=10000, solver='saga')\n",
    "countvect = CountVectorizer()"
   ]
  },
  {
   "cell_type": "markdown",
   "id": "29e05452-6899-434b-b67f-d49674a810ed",
   "metadata": {},
   "source": [
    "## d) Discuss at least two other types of representations than the BOW(or 1-hot encoding) in terms of their principles and the areas of applications. Bonus point: Implement one of them with python code and present the result. (4 points + 4 bonus points)"
   ]
  },
  {
   "cell_type": "markdown",
   "id": "5578807b-2e38-4944-9fb2-3addbd0332bd",
   "metadata": {},
   "source": [
    "2 other types of representations: \n",
    "- TF-IDF\n",
    "- Word embedding: "
   ]
  },
  {
   "cell_type": "code",
   "execution_count": 27,
   "id": "1f2aadfa-f2e2-480a-aef3-54034403bb1a",
   "metadata": {},
   "outputs": [
    {
     "name": "stdout",
     "output_type": "stream",
     "text": [
      "First sentence: advice Talk to your neighbours family to exchange phone numbers create contact list with phone numbers of neighbours schools employer chemist GP set up online shopping accounts if poss adequate supplies of regular meds but not over order\n",
      "\n",
      "Second sentence: Coronavirus Australia: Woolworths to give elderly, disabled dedicated shopping hours amid COVID-19 outbreak https://t.co/bInCA9Vp8P\n"
     ]
    }
   ],
   "source": [
    "print(\"First sentence:\", df_model.head(3).OriginalTweet[1])\n",
    "print()\n",
    "print(\"Second sentence:\", df_model.head(3).OriginalTweet[2])"
   ]
  },
  {
   "cell_type": "code",
   "execution_count": 28,
   "id": "3b23edad-71c7-4c85-b9f1-6b4a85dd0d53",
   "metadata": {},
   "outputs": [
    {
     "data": {
      "text/plain": [
       "['[no_text]',\n",
       " 'advic talk neighbour famili exchang phone number creat contact list phone number neighbour school employ chemist gp set onlin shop account poss adequ suppli regular med not order',\n",
       " 'coronaviru australia woolworth give elderli disabl dedic shop hour amid covid outbreak']"
      ]
     },
     "execution_count": 28,
     "metadata": {},
     "output_type": "execute_result"
    }
   ],
   "source": [
    "corpus = df_model.head(3).clean_text.tolist()\n",
    "corpus"
   ]
  },
  {
   "cell_type": "code",
   "execution_count": 29,
   "id": "710e26bb-7ec1-4193-9bd5-d1b05a84ce68",
   "metadata": {},
   "outputs": [
    {
     "name": "stdout",
     "output_type": "stream",
     "text": [
      "{'school', 'coronaviru', 'covid', 'woolworth', 'advic', 'shop', 'gp', 'onlin', 'exchang', 'elderli', 'hour', 'adequ', 'employ', 'give', 'list', 'disabl', 'talk', 'contact', 'set', 'med', 'phone', 'poss', 'regular', 'not', 'outbreak', 'amid', 'suppli', 'chemist', 'order', 'creat', 'account', 'australia', 'dedic', 'famili', 'neighbour', 'number'}\n"
     ]
    },
    {
     "data": {
      "text/html": [
       "<div>\n",
       "<style scoped>\n",
       "    .dataframe tbody tr th:only-of-type {\n",
       "        vertical-align: middle;\n",
       "    }\n",
       "\n",
       "    .dataframe tbody tr th {\n",
       "        vertical-align: top;\n",
       "    }\n",
       "\n",
       "    .dataframe thead th {\n",
       "        text-align: right;\n",
       "    }\n",
       "</style>\n",
       "<table border=\"1\" class=\"dataframe\">\n",
       "  <thead>\n",
       "    <tr style=\"text-align: right;\">\n",
       "      <th></th>\n",
       "      <th>school</th>\n",
       "      <th>coronaviru</th>\n",
       "      <th>covid</th>\n",
       "      <th>woolworth</th>\n",
       "      <th>advic</th>\n",
       "      <th>shop</th>\n",
       "      <th>gp</th>\n",
       "      <th>onlin</th>\n",
       "      <th>exchang</th>\n",
       "      <th>elderli</th>\n",
       "      <th>...</th>\n",
       "      <th>suppli</th>\n",
       "      <th>chemist</th>\n",
       "      <th>order</th>\n",
       "      <th>creat</th>\n",
       "      <th>account</th>\n",
       "      <th>australia</th>\n",
       "      <th>dedic</th>\n",
       "      <th>famili</th>\n",
       "      <th>neighbour</th>\n",
       "      <th>number</th>\n",
       "    </tr>\n",
       "  </thead>\n",
       "  <tbody>\n",
       "    <tr>\n",
       "      <th>0</th>\n",
       "      <td>1</td>\n",
       "      <td>0</td>\n",
       "      <td>0</td>\n",
       "      <td>0</td>\n",
       "      <td>1</td>\n",
       "      <td>1</td>\n",
       "      <td>1</td>\n",
       "      <td>1</td>\n",
       "      <td>1</td>\n",
       "      <td>0</td>\n",
       "      <td>...</td>\n",
       "      <td>1</td>\n",
       "      <td>1</td>\n",
       "      <td>1</td>\n",
       "      <td>1</td>\n",
       "      <td>1</td>\n",
       "      <td>0</td>\n",
       "      <td>0</td>\n",
       "      <td>1</td>\n",
       "      <td>2</td>\n",
       "      <td>2</td>\n",
       "    </tr>\n",
       "    <tr>\n",
       "      <th>1</th>\n",
       "      <td>0</td>\n",
       "      <td>1</td>\n",
       "      <td>1</td>\n",
       "      <td>1</td>\n",
       "      <td>0</td>\n",
       "      <td>1</td>\n",
       "      <td>0</td>\n",
       "      <td>0</td>\n",
       "      <td>0</td>\n",
       "      <td>1</td>\n",
       "      <td>...</td>\n",
       "      <td>0</td>\n",
       "      <td>0</td>\n",
       "      <td>0</td>\n",
       "      <td>0</td>\n",
       "      <td>0</td>\n",
       "      <td>1</td>\n",
       "      <td>1</td>\n",
       "      <td>0</td>\n",
       "      <td>0</td>\n",
       "      <td>0</td>\n",
       "    </tr>\n",
       "  </tbody>\n",
       "</table>\n",
       "<p>2 rows × 36 columns</p>\n",
       "</div>"
      ],
      "text/plain": [
       "   school  coronaviru  covid  woolworth  advic  shop  gp  onlin  exchang  \\\n",
       "0       1           0      0          0      1     1   1      1        1   \n",
       "1       0           1      1          1      0     1   0      0        0   \n",
       "\n",
       "   elderli  ...  suppli  chemist  order  creat  account  australia  dedic  \\\n",
       "0        0  ...       1        1      1      1        1          0      0   \n",
       "1        1  ...       0        0      0      0        0          1      1   \n",
       "\n",
       "   famili  neighbour  number  \n",
       "0       1          2       2  \n",
       "1       0          0       0  \n",
       "\n",
       "[2 rows x 36 columns]"
      ]
     },
     "execution_count": 29,
     "metadata": {},
     "output_type": "execute_result"
    }
   ],
   "source": [
    "first = df_model.head(3).clean_text.tolist()[1]\n",
    "second = df_model.head(3).clean_text.tolist()[2]\n",
    "\n",
    "#split so each word have their own string\n",
    "first = first.split(\" \")\n",
    "second= second.split(\" \")\n",
    "\n",
    "#join them to remove common duplicate words\n",
    "total= set(first).union(set(second))\n",
    "\n",
    "print(total)\n",
    "\n",
    "#Now lets add a way to count the words using a dictionary key-value pairing for both sentences\n",
    "wordDictA = dict.fromkeys(total, 0) \n",
    "wordDictB = dict.fromkeys(total, 0)\n",
    "for word in first:\n",
    "    wordDictA[word]+=1\n",
    "    \n",
    "for word in second:\n",
    "    wordDictB[word]+=1\n",
    "#put them in a dataframe and then view the result:\n",
    "pd.DataFrame([wordDictA, wordDictB])"
   ]
  },
  {
   "cell_type": "code",
   "execution_count": 30,
   "id": "632c543d-af04-438a-b987-014d61c4f81a",
   "metadata": {},
   "outputs": [
    {
     "data": {
      "text/html": [
       "<div>\n",
       "<style scoped>\n",
       "    .dataframe tbody tr th:only-of-type {\n",
       "        vertical-align: middle;\n",
       "    }\n",
       "\n",
       "    .dataframe tbody tr th {\n",
       "        vertical-align: top;\n",
       "    }\n",
       "\n",
       "    .dataframe thead th {\n",
       "        text-align: right;\n",
       "    }\n",
       "</style>\n",
       "<table border=\"1\" class=\"dataframe\">\n",
       "  <thead>\n",
       "    <tr style=\"text-align: right;\">\n",
       "      <th></th>\n",
       "      <th>school</th>\n",
       "      <th>coronaviru</th>\n",
       "      <th>covid</th>\n",
       "      <th>woolworth</th>\n",
       "      <th>advic</th>\n",
       "      <th>shop</th>\n",
       "      <th>gp</th>\n",
       "      <th>onlin</th>\n",
       "      <th>exchang</th>\n",
       "      <th>elderli</th>\n",
       "      <th>...</th>\n",
       "      <th>suppli</th>\n",
       "      <th>chemist</th>\n",
       "      <th>order</th>\n",
       "      <th>creat</th>\n",
       "      <th>account</th>\n",
       "      <th>australia</th>\n",
       "      <th>dedic</th>\n",
       "      <th>famili</th>\n",
       "      <th>neighbour</th>\n",
       "      <th>number</th>\n",
       "    </tr>\n",
       "  </thead>\n",
       "  <tbody>\n",
       "    <tr>\n",
       "      <th>0</th>\n",
       "      <td>0.035714</td>\n",
       "      <td>0.000000</td>\n",
       "      <td>0.000000</td>\n",
       "      <td>0.000000</td>\n",
       "      <td>0.035714</td>\n",
       "      <td>0.035714</td>\n",
       "      <td>0.035714</td>\n",
       "      <td>0.035714</td>\n",
       "      <td>0.035714</td>\n",
       "      <td>0.000000</td>\n",
       "      <td>...</td>\n",
       "      <td>0.035714</td>\n",
       "      <td>0.035714</td>\n",
       "      <td>0.035714</td>\n",
       "      <td>0.035714</td>\n",
       "      <td>0.035714</td>\n",
       "      <td>0.000000</td>\n",
       "      <td>0.000000</td>\n",
       "      <td>0.035714</td>\n",
       "      <td>0.071429</td>\n",
       "      <td>0.071429</td>\n",
       "    </tr>\n",
       "    <tr>\n",
       "      <th>1</th>\n",
       "      <td>0.000000</td>\n",
       "      <td>0.083333</td>\n",
       "      <td>0.083333</td>\n",
       "      <td>0.083333</td>\n",
       "      <td>0.000000</td>\n",
       "      <td>0.083333</td>\n",
       "      <td>0.000000</td>\n",
       "      <td>0.000000</td>\n",
       "      <td>0.000000</td>\n",
       "      <td>0.083333</td>\n",
       "      <td>...</td>\n",
       "      <td>0.000000</td>\n",
       "      <td>0.000000</td>\n",
       "      <td>0.000000</td>\n",
       "      <td>0.000000</td>\n",
       "      <td>0.000000</td>\n",
       "      <td>0.083333</td>\n",
       "      <td>0.083333</td>\n",
       "      <td>0.000000</td>\n",
       "      <td>0.000000</td>\n",
       "      <td>0.000000</td>\n",
       "    </tr>\n",
       "  </tbody>\n",
       "</table>\n",
       "<p>2 rows × 36 columns</p>\n",
       "</div>"
      ],
      "text/plain": [
       "     school  coronaviru     covid  woolworth     advic      shop        gp  \\\n",
       "0  0.035714    0.000000  0.000000   0.000000  0.035714  0.035714  0.035714   \n",
       "1  0.000000    0.083333  0.083333   0.083333  0.000000  0.083333  0.000000   \n",
       "\n",
       "      onlin   exchang   elderli  ...    suppli   chemist     order     creat  \\\n",
       "0  0.035714  0.035714  0.000000  ...  0.035714  0.035714  0.035714  0.035714   \n",
       "1  0.000000  0.000000  0.083333  ...  0.000000  0.000000  0.000000  0.000000   \n",
       "\n",
       "    account  australia     dedic    famili  neighbour    number  \n",
       "0  0.035714   0.000000  0.000000  0.035714   0.071429  0.071429  \n",
       "1  0.000000   0.083333  0.083333  0.000000   0.000000  0.000000  \n",
       "\n",
       "[2 rows x 36 columns]"
      ]
     },
     "execution_count": 30,
     "metadata": {},
     "output_type": "execute_result"
    }
   ],
   "source": [
    "#Now writing the TF function:\n",
    "def computeTF(wordDict, bow):\n",
    "    tfDict = {}\n",
    "    bowCount = len(bow)\n",
    "    for word, count in wordDict.items():\n",
    "        tfDict[word] = count/float(bowCount)\n",
    "    return tfDict\n",
    "#running our sentences through the tf function:\n",
    "tfFirst = computeTF(wordDictA, first)\n",
    "tfSecond = computeTF(wordDictB, second)\n",
    "#Converting to dataframe for visualization\n",
    "tf_df= pd.DataFrame([tfFirst, tfSecond])\n",
    "\n",
    "tf_df"
   ]
  },
  {
   "cell_type": "code",
   "execution_count": 32,
   "id": "354d458e-345e-40a7-aa5e-e7068e73369c",
   "metadata": {},
   "outputs": [],
   "source": [
    "#creating the log portion of the Excel table we saw earlier\n",
    "def computeIDF(docList):\n",
    "    idfDict = {}\n",
    "    N = len(docList)\n",
    "    \n",
    "    idfDict = dict.fromkeys(docList[0].keys(), 0)\n",
    "    for doc in docList:\n",
    "        for word, val in doc.items():\n",
    "            if val > 0:\n",
    "                idfDict[word] += 1\n",
    "    \n",
    "    for word, val in idfDict.items():\n",
    "        idfDict[word] = math.log10(N / float(val))\n",
    "        \n",
    "    return idfDict\n",
    "#inputing our sentences in the log file\n",
    "idfs = computeIDF([wordDictA, wordDictB])\n",
    "#The actual calculation of TF*IDF from the table above:\n",
    "def computeTFIDF(tfBow, idfs):\n",
    "    tfidf = {}\n",
    "    for word, val in tfBow.items():\n",
    "        tfidf[word] = val*idfs[word]\n",
    "    return tfidf\n",
    "#running our two sentences through the IDF:\n",
    "idfFirst = computeTFIDF(tfFirst, idfs)\n",
    "idfSecond = computeTFIDF(tfSecond, idfs)\n",
    "#putting it in a dataframe\n",
    "idf= pd.DataFrame([idfFirst, idfSecond])"
   ]
  },
  {
   "cell_type": "markdown",
   "id": "cd6daa6b-cc4f-4592-acb2-203ac46ac874",
   "metadata": {},
   "source": [
    "## e) Train classifiers. Describe the process in two sections, one for the methods and the other for the results."
   ]
  },
  {
   "cell_type": "code",
   "execution_count": 33,
   "id": "2895db5a-afc3-46a5-9bf3-f9d006b9b93f",
   "metadata": {},
   "outputs": [],
   "source": [
    "from pprint import pprint\n",
    "from time import time\n",
    "\n",
    "from sklearn.model_selection import GridSearchCV\n",
    "from sklearn.pipeline import Pipeline, FeatureUnion\n",
    "from sklearn.metrics import classification_report\n",
    "\n",
    "from sklearn.naive_bayes import MultinomialNB\n",
    "from sklearn.linear_model import LogisticRegression\n",
    "\n",
    "def grid_vect(clf, parameters_clf, X_train, X_test, y_train, y_test, parameters_text=None, vect=None):\n",
    "    \n",
    "    textcountscols = ['afinn_positive', 'afinn_negative', 'nrc_positive', 'nrc_negative', 'nrc_anger', 'nrc_anticipation', 'nrc_disgust',\n",
    "                     'nrc_fear', 'nrc_joy', 'nrc_sadness', 'nrc_surprise', 'nrc_trust', 'mpqa_positive', 'mpqa_negative', 'mpqa_strong_subjectivty']\n",
    "    \n",
    "    features = FeatureUnion([('textcounts', ColumnExtractor(cols=textcountscols))\n",
    "                                 , ('pipe', Pipeline([('cleantext', ColumnExtractor(cols='clean_text')), ('vect', vect)]))]\n",
    "                                , n_jobs=-1)\n",
    "  \n",
    "    pipeline = Pipeline([\n",
    "        ('features', features)\n",
    "        , ('clf', clf)\n",
    "    ])\n",
    "    \n",
    "    # Join the parameters dictionaries together\n",
    "    parameters = dict()\n",
    "    if parameters_text:\n",
    "        parameters.update(parameters_text)\n",
    "    parameters.update(parameters_clf)\n",
    "\n",
    "    # Make sure you have scikit-learn version 0.19 or higher to use multiple scoring metrics\n",
    "    grid_search = GridSearchCV(pipeline, parameters, n_jobs=-1, verbose=1, cv=5)\n",
    "    \n",
    "    print(\"Performing grid search...\")\n",
    "    print(\"pipeline:\", [name for name, _ in pipeline.steps])\n",
    "    print(\"parameters:\")\n",
    "    pprint(parameters)\n",
    "\n",
    "    t0 = time()\n",
    "    grid_search.fit(X_train, y_train)\n",
    "    print(\"done in %0.3fs\" % (time() - t0))\n",
    "    print()\n",
    "\n",
    "    print(\"Best CV score: %0.3f\" % grid_search.best_score_)\n",
    "    print(\"Best parameters set:\")\n",
    "    best_parameters = grid_search.best_estimator_.get_params()\n",
    "    for param_name in sorted(parameters.keys()):\n",
    "        print(\"\\t%s: %r\" % (param_name, best_parameters[param_name]))\n",
    "        \n",
    "    print(\"Test score with best_estimator_: %0.3f\" % grid_search.best_estimator_.score(X_test, y_test))\n",
    "    print(\"\\n\")\n",
    "    print(\"Classification Report Test Data\")\n",
    "    print(classification_report(y_test, grid_search.best_estimator_.predict(X_test)))\n",
    "                        \n",
    "    return grid_search"
   ]
  },
  {
   "cell_type": "code",
   "execution_count": 34,
   "id": "e7ad954f-76ae-46ea-b276-08425cda24cf",
   "metadata": {},
   "outputs": [],
   "source": [
    "# Parameter grid settings for the vectorizers (Count and TFIDF)\n",
    "parameters_vect = {\n",
    "    'features__pipe__vect__max_df': (0.25, 0.5, 0.75),\n",
    "    'features__pipe__vect__ngram_range': ((1, 1), (1, 2)),\n",
    "    'features__pipe__vect__min_df': (1,2)\n",
    "}\n",
    "\n",
    "# Parameter grid settings for LogisticRegression\n",
    "parameters_logreg = {\n",
    "    'clf__C': (0.25, 0.5, 1.0),\n",
    "    'clf__penalty': ('l1', 'l2')\n",
    "}\n",
    "\n",
    "# Parameter grid settings for MultinomialNB\n",
    "parameters_mnb = {\n",
    "    'clf__alpha': (0.25, 0.5, 0.75)\n",
    "}\n"
   ]
  },
  {
   "cell_type": "code",
   "execution_count": 35,
   "id": "32f4fc46-8ecf-4191-9895-2f02b1c366f0",
   "metadata": {},
   "outputs": [
    {
     "data": {
      "text/plain": [
       "Positive    16233\n",
       "Negative    13907\n",
       "Neutral      6901\n",
       "Name: Sentiment, dtype: int64"
      ]
     },
     "execution_count": 35,
     "metadata": {},
     "output_type": "execute_result"
    }
   ],
   "source": [
    "y_train.value_counts()"
   ]
  },
  {
   "cell_type": "code",
   "execution_count": 36,
   "id": "d13c26a8-cdd5-4ec7-b82d-6c2074cf3ad8",
   "metadata": {},
   "outputs": [
    {
     "data": {
      "text/plain": [
       "Positive    1813\n",
       "Negative    1491\n",
       "Neutral      812\n",
       "Name: Sentiment, dtype: int64"
      ]
     },
     "execution_count": 36,
     "metadata": {},
     "output_type": "execute_result"
    }
   ],
   "source": [
    "y_valid.value_counts()"
   ]
  },
  {
   "cell_type": "code",
   "execution_count": 37,
   "id": "6749dda5-1a47-4f79-997c-2866c5ade63c",
   "metadata": {},
   "outputs": [],
   "source": [
    "# LogisticRegression\n",
    "best_logreg_countvect = grid_vect(logreg, parameters_logreg, X_train, X_valid, y_train, y_valid, parameters_text=parameters_vect, vect=countvect)"
   ]
  },
  {
   "cell_type": "code",
   "execution_count": 39,
   "id": "a728a707-5d98-4616-b483-040ab7222179",
   "metadata": {},
   "outputs": [],
   "source": [
    "mnb = MultinomialNB()\n",
    "countvect = CountVectorizer()\n",
    "\n",
    "# MultinomialNB\n",
    "best_mnb_countvect = grid_vect(mnb, parameters_mnb, X_train, X_test, y_train, y_test, parameters_text=parameters_vect, vect=countvect)"
   ]
  },
  {
   "cell_type": "markdown",
   "id": "2763e174-046c-48f5-9fef-c0e9bb15aa68",
   "metadata": {},
   "source": [
    "## BERT"
   ]
  },
  {
   "cell_type": "code",
   "execution_count": 41,
   "id": "fb775c48-ff6e-419e-a54e-c5cd0e870029",
   "metadata": {},
   "outputs": [
    {
     "data": {
      "text/plain": [
       "<Figure size 432x288 with 0 Axes>"
      ]
     },
     "metadata": {},
     "output_type": "display_data"
    }
   ],
   "source": [
    "#general purpose packages\n",
    "import numpy as np\n",
    "import pandas as pd\n",
    "import tensorflow as tf\n",
    "import matplotlib.pyplot as plt\n",
    "import seaborn as sns\n",
    "\n",
    "#data processing\n",
    "import re, string\n",
    "import emoji\n",
    "import nltk\n",
    "\n",
    "from sklearn import preprocessing\n",
    "from imblearn.over_sampling import RandomOverSampler\n",
    "from sklearn.model_selection import train_test_split\n",
    "\n",
    "\n",
    "#Naive Bayes\n",
    "from sklearn.feature_extraction.text import CountVectorizer\n",
    "from sklearn.feature_extraction.text import TfidfTransformer\n",
    "from sklearn.naive_bayes import MultinomialNB\n",
    "\n",
    "#transformers\n",
    "from transformers import BertTokenizerFast\n",
    "from transformers import TFBertModel\n",
    "from transformers import RobertaTokenizerFast\n",
    "from transformers import TFRobertaModel\n",
    "\n",
    "#keras\n",
    "import tensorflow as tf\n",
    "from tensorflow import keras\n",
    "\n",
    "\n",
    "#metrics\n",
    "from sklearn.metrics import accuracy_score, f1_score\n",
    "from sklearn.metrics import classification_report, confusion_matrix\n",
    "\n",
    "#set seed for reproducibility\n",
    "seed=42\n",
    "\n",
    "#set style for plots\n",
    "sns.set_style(\"whitegrid\")\n",
    "sns.despine()\n",
    "plt.style.use(\"seaborn-whitegrid\")\n",
    "plt.rc(\"figure\", autolayout=True)\n",
    "plt.rc(\"axes\", labelweight=\"bold\", labelsize=\"large\", titleweight=\"bold\", titlepad=10)"
   ]
  },
  {
   "cell_type": "markdown",
   "id": "03ef132c-a51c-4fce-b22e-56c81df855ea",
   "metadata": {},
   "source": [
    "### Import the BERT tokenizer"
   ]
  },
  {
   "cell_type": "code",
   "execution_count": 43,
   "id": "8b37b11d-214f-47d7-beab-494d8aa7ae84",
   "metadata": {},
   "outputs": [],
   "source": [
    "tokenizer = BertTokenizerFast.from_pretrained('bert-base-uncased')"
   ]
  },
  {
   "cell_type": "markdown",
   "id": "abd995ef-b83b-458c-b1e6-824830bc7fb5",
   "metadata": {},
   "source": [
    "'''\n",
    "token_lens = []\n",
    "\n",
    "for txt in df['text_clean'].values:\n",
    "    tokens = tokenizer.encode(txt, max_length=512, truncation=True)\n",
    "    token_lens.append(len(tokens))\n",
    "    \n",
    "max_len=np.max(token_lens)\n",
    "'''"
   ]
  },
  {
   "cell_type": "markdown",
   "id": "15c9efb4-8649-4149-83b4-71836ea6081d",
   "metadata": {},
   "source": [
    "## Class Balancing by RandomOverSampler"
   ]
  },
  {
   "cell_type": "code",
   "execution_count": 46,
   "id": "bba54338-83d7-41e9-9774-024758983fbc",
   "metadata": {},
   "outputs": [],
   "source": [
    "ros = RandomOverSampler()\n",
    "X_train, y_train = ros.fit_resample(np.array(X_train['clean_text']).reshape(-1, 1), np.array(y_train).reshape(-1, 1));\n",
    "#train_os = pd.DataFrame(list(zip([x[0] for x in train_x], train_y)), columns = ['text_clean', 'Sentiment']);"
   ]
  },
  {
   "cell_type": "code",
   "execution_count": 47,
   "id": "73b02436-9ea5-42e2-89f5-8965fe1bb636",
   "metadata": {},
   "outputs": [],
   "source": [
    "X_valid, y_valid = ros.fit_resample(np.array(X_valid['clean_text']).reshape(-1, 1), np.array(y_valid).reshape(-1, 1));"
   ]
  },
  {
   "cell_type": "markdown",
   "id": "5c72476d-ec0e-4d17-a8a1-e8e5d09af836",
   "metadata": {},
   "source": [
    "## Train- Validation split"
   ]
  },
  {
   "cell_type": "code",
   "execution_count": 52,
   "id": "0cbb1d57-99dd-4df2-8e0c-b1ad0d7ca125",
   "metadata": {},
   "outputs": [],
   "source": [
    "y_test = test_df.Sentiment"
   ]
  },
  {
   "cell_type": "code",
   "execution_count": 53,
   "id": "22f5ce47-5687-4789-a726-cd6718e94d05",
   "metadata": {},
   "outputs": [],
   "source": [
    "ohe = preprocessing.OneHotEncoder()\n",
    "y_train = ohe.fit_transform(np.array(y_train).reshape(-1, 1)).toarray()\n",
    "y_valid = ohe.fit_transform(np.array(y_valid).reshape(-1, 1)).toarray()\n",
    "y_test = ohe.fit_transform(np.array(y_test).reshape(-1, 1)).toarray()"
   ]
  },
  {
   "cell_type": "code",
   "execution_count": 54,
   "id": "22a3364d-43fb-45bd-a322-4825fdd03496",
   "metadata": {},
   "outputs": [
    {
     "name": "stdout",
     "output_type": "stream",
     "text": [
      "TRAINING DATA: 48699\n",
      "VALIDATION DATA: 5439\n",
      "TESTING DATA: 3798\n"
     ]
    }
   ],
   "source": [
    "print(f\"TRAINING DATA: {X_train.shape[0]}\\nVALIDATION DATA: {X_valid.shape[0]}\\nTESTING DATA: {test_df.shape[0]}\" )"
   ]
  },
  {
   "cell_type": "markdown",
   "id": "0ae2f924-ea49-490e-8794-0aa43974b1f2",
   "metadata": {},
   "source": [
    "## BERT Sentiment Analysis"
   ]
  },
  {
   "cell_type": "code",
   "execution_count": 55,
   "id": "b3c90b7c-a11b-40c3-b94c-3b334468b01e",
   "metadata": {},
   "outputs": [],
   "source": [
    "MAX_LEN=128"
   ]
  },
  {
   "cell_type": "code",
   "execution_count": 56,
   "id": "29fc75a1-c048-4dbb-81ef-95a7720eebba",
   "metadata": {},
   "outputs": [],
   "source": [
    "def tokenize(data,max_len=MAX_LEN) :\n",
    "    input_ids = []\n",
    "    attention_masks = []\n",
    "    for i in range(len(data)):\n",
    "        encoded = tokenizer.encode_plus(\n",
    "            data[i],\n",
    "            add_special_tokens=True,\n",
    "            max_length=MAX_LEN,\n",
    "            padding='max_length',\n",
    "            return_attention_mask=True\n",
    "        )\n",
    "        input_ids.append(encoded['input_ids'])\n",
    "        attention_masks.append(encoded['attention_mask'])\n",
    "    return np.array(input_ids),np.array(attention_masks)"
   ]
  },
  {
   "cell_type": "code",
   "execution_count": 57,
   "id": "4f8ca867-3118-403e-9ee3-497a8532eca8",
   "metadata": {},
   "outputs": [],
   "source": [
    "train_input_ids, train_attention_masks = tokenize(pd.DataFrame(X_train,columns=[\"clean_text\"]).clean_text.tolist(), MAX_LEN)\n",
    "val_input_ids, val_attention_masks = tokenize(pd.DataFrame(X_valid,columns=[\"clean_text\"]).clean_text.tolist(), MAX_LEN)\n",
    "test_input_ids, test_attention_masks = tokenize(pd.DataFrame(test_df, columns=[\"clean_text\"]).clean_text.tolist(), MAX_LEN)"
   ]
  },
  {
   "cell_type": "code",
   "execution_count": 59,
   "id": "5ed3ad31-5658-4dd9-a49f-2ce891b74269",
   "metadata": {},
   "outputs": [
    {
     "name": "stderr",
     "output_type": "stream",
     "text": [
      "Some layers from the model checkpoint at bert-base-uncased were not used when initializing TFBertModel: ['nsp___cls', 'mlm___cls']\n",
      "- This IS expected if you are initializing TFBertModel from the checkpoint of a model trained on another task or with another architecture (e.g. initializing a BertForSequenceClassification model from a BertForPreTraining model).\n",
      "- This IS NOT expected if you are initializing TFBertModel from the checkpoint of a model that you expect to be exactly identical (initializing a BertForSequenceClassification model from a BertForSequenceClassification model).\n",
      "All the layers of TFBertModel were initialized from the model checkpoint at bert-base-uncased.\n",
      "If your task is similar to the task the model of the checkpoint was trained on, you can already use TFBertModel for predictions without further training.\n"
     ]
    }
   ],
   "source": [
    "bert_model = TFBertModel.from_pretrained('bert-base-uncased')"
   ]
  },
  {
   "cell_type": "code",
   "execution_count": 60,
   "id": "390ef924-ac8d-4f29-8b87-7b05a5b98795",
   "metadata": {},
   "outputs": [],
   "source": [
    "def create_model(bert_model, max_len=MAX_LEN):\n",
    "    \n",
    "    ##params###\n",
    "    opt = tf.keras.optimizers.Adam(learning_rate=1e-5, decay=1e-7)\n",
    "    loss = tf.keras.losses.CategoricalCrossentropy()\n",
    "    accuracy = tf.keras.metrics.CategoricalAccuracy()\n",
    "\n",
    "\n",
    "    input_ids = tf.keras.Input(shape=(max_len,),dtype='int32')\n",
    "    \n",
    "    attention_masks = tf.keras.Input(shape=(max_len,),dtype='int32')\n",
    "    \n",
    "    embeddings = bert_model([input_ids,attention_masks])[1]\n",
    "    \n",
    "    output = tf.keras.layers.Dense(3, activation=\"softmax\")(embeddings)\n",
    "    \n",
    "    model = tf.keras.models.Model(inputs = [input_ids,attention_masks], outputs = output)\n",
    "    \n",
    "    model.compile(opt, loss=loss, metrics=accuracy)\n",
    "    \n",
    "    \n",
    "    return model"
   ]
  },
  {
   "cell_type": "markdown",
   "id": "8750a09f-fb62-4660-ba76-d93495188768",
   "metadata": {},
   "source": [
    "## With balanced data"
   ]
  },
  {
   "cell_type": "code",
   "execution_count": null,
   "id": "0d880d14-dc35-429e-bdc7-ed7a9b743238",
   "metadata": {},
   "outputs": [
    {
     "name": "stdout",
     "output_type": "stream",
     "text": [
      "Model: \"model\"\n",
      "__________________________________________________________________________________________________\n",
      " Layer (type)                   Output Shape         Param #     Connected to                     \n",
      "==================================================================================================\n",
      " input_1 (InputLayer)           [(None, 128)]        0           []                               \n",
      "                                                                                                  \n",
      " input_2 (InputLayer)           [(None, 128)]        0           []                               \n",
      "                                                                                                  \n",
      " tf_bert_model (TFBertModel)    TFBaseModelOutputWi  109482240   ['input_1[0][0]',                \n",
      "                                thPoolingAndCrossAt               'input_2[0][0]']                \n",
      "                                tentions(last_hidde                                               \n",
      "                                n_state=(None, 128,                                               \n",
      "                                 768),                                                            \n",
      "                                 pooler_output=(Non                                               \n",
      "                                e, 768),                                                          \n",
      "                                 past_key_values=No                                               \n",
      "                                ne, hidden_states=N                                               \n",
      "                                one, attentions=Non                                               \n",
      "                                e, cross_attentions                                               \n",
      "                                =None)                                                            \n",
      "                                                                                                  \n",
      " dense (Dense)                  (None, 3)            2307        ['tf_bert_model[0][1]']          \n",
      "                                                                                                  \n",
      "==================================================================================================\n",
      "Total params: 109,484,547\n",
      "Trainable params: 109,484,547\n",
      "Non-trainable params: 0\n",
      "__________________________________________________________________________________________________\n"
     ]
    }
   ],
   "source": [
    "model_bal = create_model(bert_model, MAX_LEN)\n",
    "model_bal.summary()"
   ]
  },
  {
   "cell_type": "code",
   "execution_count": 62,
   "id": "8d443bd0-2f21-4ea4-acab-a7a52fc9d8c4",
   "metadata": {},
   "outputs": [
    {
     "name": "stdout",
     "output_type": "stream",
     "text": [
      "Epoch 1/5\n",
      "3044/3044 [==============================] - 1323s 431ms/step - loss: 0.5805 - categorical_accuracy: 0.7725 - val_loss: 0.4802 - val_categorical_accuracy: 0.8248\n",
      "Epoch 2/5\n",
      "3044/3044 [==============================] - 1312s 431ms/step - loss: 0.3491 - categorical_accuracy: 0.8721 - val_loss: 0.5084 - val_categorical_accuracy: 0.8445\n",
      "Epoch 3/5\n",
      "3044/3044 [==============================] - 1313s 431ms/step - loss: 0.2393 - categorical_accuracy: 0.9144 - val_loss: 0.5016 - val_categorical_accuracy: 0.8417\n",
      "Epoch 4/5\n",
      "3044/3044 [==============================] - 1314s 432ms/step - loss: 0.1621 - categorical_accuracy: 0.9442 - val_loss: 0.5261 - val_categorical_accuracy: 0.8479\n",
      "Epoch 5/5\n",
      "3044/3044 [==============================] - 1314s 432ms/step - loss: 0.1090 - categorical_accuracy: 0.9634 - val_loss: 0.8071 - val_categorical_accuracy: 0.8351\n"
     ]
    }
   ],
   "source": [
    "history_bert = model_bal.fit([train_input_ids,train_attention_masks], y_train, validation_data=([val_input_ids,val_attention_masks], y_valid), epochs=5, batch_size=16)"
   ]
  },
  {
   "cell_type": "code",
   "execution_count": 64,
   "id": "ec8f84e4-f6ce-4182-8c7a-2fbb30c48c68",
   "metadata": {},
   "outputs": [],
   "source": [
    "result_bert = model_bal.predict([test_input_ids,test_attention_masks])"
   ]
  },
  {
   "cell_type": "code",
   "execution_count": 65,
   "id": "95f6a210-58a9-4ad6-85b0-12d0ce9aefea",
   "metadata": {},
   "outputs": [],
   "source": [
    "y_pred_bert =  np.zeros_like(result_bert)\n",
    "y_pred_bert[np.arange(len(y_pred_bert)), result_bert.argmax(1)] = 1"
   ]
  },
  {
   "cell_type": "code",
   "execution_count": 66,
   "id": "a7fc3458-24c8-4a76-bdf8-bf81d239a663",
   "metadata": {},
   "outputs": [],
   "source": [
    "def conf_matrix(y, y_pred, title):\n",
    "    fig, ax =plt.subplots(figsize=(5,5))\n",
    "    labels=['Negative', 'Neutral', 'Positive']\n",
    "    ax=sns.heatmap(confusion_matrix(y, y_pred), annot=True, cmap=\"Blues\", fmt='g', cbar=False, annot_kws={\"size\":25})\n",
    "    plt.title(title, fontsize=20)\n",
    "    ax.xaxis.set_ticklabels(labels, fontsize=17) \n",
    "    ax.yaxis.set_ticklabels(labels, fontsize=17)\n",
    "    ax.set_ylabel('Test', fontsize=20)\n",
    "    ax.set_xlabel('Predicted', fontsize=20)\n",
    "    plt.show()"
   ]
  },
  {
   "cell_type": "code",
   "execution_count": 67,
   "id": "4189afd1-f803-40bf-88b1-d1b03d0b49ea",
   "metadata": {},
   "outputs": [
    {
     "data": {
      "image/png": "[encoded data removed]",
      "text/plain": [
       "<Figure size 360x360 with 1 Axes>"
      ]
     },
     "metadata": {},
     "output_type": "display_data"
    }
   ],
   "source": [
    "conf_matrix(y_test.argmax(1), y_pred_bert.argmax(1),'BERT Sentiment Analysis\\nConfusion Matrix')"
   ]
  },
  {
   "cell_type": "code",
   "execution_count": 68,
   "id": "ffbf662b-e75d-4f5d-b103-fd3b8c83b5fe",
   "metadata": {},
   "outputs": [
    {
     "name": "stdout",
     "output_type": "stream",
     "text": [
      "\tClassification Report for BERT:\n",
      "\n",
      "               precision    recall  f1-score   support\n",
      "\n",
      "    Negative       0.84      0.89      0.86      1633\n",
      "     Neutral       0.87      0.68      0.77       619\n",
      "    Positive       0.86      0.87      0.86      1546\n",
      "\n",
      "   micro avg       0.85      0.85      0.85      3798\n",
      "   macro avg       0.85      0.82      0.83      3798\n",
      "weighted avg       0.85      0.85      0.85      3798\n",
      " samples avg       0.85      0.85      0.85      3798\n",
      "\n"
     ]
    }
   ],
   "source": [
    "print('\\tClassification Report for BERT:\\n\\n',classification_report(y_test,y_pred_bert, target_names=['Negative', 'Neutral', 'Positive']))"
   ]
  },
  {
   "cell_type": "markdown",
   "id": "f3c092b5-ab91-4857-9bc3-7244a63334db",
   "metadata": {},
   "source": [
    "## With imbalanced data"
   ]
  },
  {
   "cell_type": "code",
   "execution_count": 54,
   "id": "42c30011-c273-4dee-9b6f-9abe2d08d847",
   "metadata": {},
   "outputs": [
    {
     "name": "stdout",
     "output_type": "stream",
     "text": [
      "Model: \"model\"\n",
      "__________________________________________________________________________________________________\n",
      " Layer (type)                   Output Shape         Param #     Connected to                     \n",
      "==================================================================================================\n",
      " input_1 (InputLayer)           [(None, 128)]        0           []                               \n",
      "                                                                                                  \n",
      " input_2 (InputLayer)           [(None, 128)]        0           []                               \n",
      "                                                                                                  \n",
      " tf_bert_model (TFBertModel)    TFBaseModelOutputWi  109482240   ['input_1[0][0]',                \n",
      "                                thPoolingAndCrossAt               'input_2[0][0]']                \n",
      "                                tentions(last_hidde                                               \n",
      "                                n_state=(None, 128,                                               \n",
      "                                 768),                                                            \n",
      "                                 pooler_output=(Non                                               \n",
      "                                e, 768),                                                          \n",
      "                                 past_key_values=No                                               \n",
      "                                ne, hidden_states=N                                               \n",
      "                                one, attentions=Non                                               \n",
      "                                e, cross_attentions                                               \n",
      "                                =None)                                                            \n",
      "                                                                                                  \n",
      " dense (Dense)                  (None, 3)            2307        ['tf_bert_model[0][1]']          \n",
      "                                                                                                  \n",
      "==================================================================================================\n",
      "Total params: 109,484,547\n",
      "Trainable params: 109,484,547\n",
      "Non-trainable params: 0\n",
      "__________________________________________________________________________________________________\n"
     ]
    }
   ],
   "source": [
    "model = create_model(bert_model, MAX_LEN)\n",
    "model.summary()"
   ]
  },
  {
   "cell_type": "code",
   "execution_count": 60,
   "id": "31d4dd49-cc25-4e29-8b29-06a60a9f84f1",
   "metadata": {},
   "outputs": [
    {
     "name": "stdout",
     "output_type": "stream",
     "text": [
      "Epoch 1/5\n",
      "2316/2316 [==============================] - 1021s 441ms/step - loss: 0.5523 - categorical_accuracy: 0.7848 - val_loss: 0.4593 - val_categorical_accuracy: 0.8292\n",
      "Epoch 2/5\n",
      "2316/2316 [==============================] - 1013s 437ms/step - loss: 0.3749 - categorical_accuracy: 0.8648 - val_loss: 0.4089 - val_categorical_accuracy: 0.8525\n",
      "Epoch 3/5\n",
      "2316/2316 [==============================] - 1005s 434ms/step - loss: 0.2823 - categorical_accuracy: 0.9029 - val_loss: 0.4113 - val_categorical_accuracy: 0.8637\n",
      "Epoch 4/5\n",
      "2316/2316 [==============================] - 1002s 433ms/step - loss: 0.2106 - categorical_accuracy: 0.9269 - val_loss: 0.4144 - val_categorical_accuracy: 0.8654\n",
      "Epoch 5/5\n",
      "2316/2316 [==============================] - 1001s 432ms/step - loss: 0.1536 - categorical_accuracy: 0.9478 - val_loss: 0.4971 - val_categorical_accuracy: 0.8586\n"
     ]
    }
   ],
   "source": [
    "history_bert = model.fit([train_input_ids,train_attention_masks], y_train, validation_data=([val_input_ids,val_attention_masks], y_valid), epochs=5, batch_size=16)"
   ]
  },
  {
   "cell_type": "code",
   "execution_count": 61,
   "id": "bda9e27b-a6e0-4b7a-af20-dfe4acf6c367",
   "metadata": {},
   "outputs": [],
   "source": [
    "result_bert = model.predict([test_input_ids,test_attention_masks])"
   ]
  },
  {
   "cell_type": "code",
   "execution_count": 62,
   "id": "f5d35272-f2c5-40a1-a424-d50daf18e7ba",
   "metadata": {},
   "outputs": [],
   "source": [
    "y_pred_bert =  np.zeros_like(result_bert)\n",
    "y_pred_bert[np.arange(len(y_pred_bert)), result_bert.argmax(1)] = 1"
   ]
  },
  {
   "cell_type": "code",
   "execution_count": 64,
   "id": "7f29ba17-49fa-4c94-85bc-5b3c1eafdfda",
   "metadata": {},
   "outputs": [
    {
     "data": {
      "image/png": "[encoded data removed]",
      "text/plain": [
       "<Figure size 360x360 with 1 Axes>"
      ]
     },
     "metadata": {},
     "output_type": "display_data"
    }
   ],
   "source": [
    "conf_matrix(y_test.argmax(1), y_pred_bert.argmax(1),'BERT Sentiment Analysis\\nConfusion Matrix')"
   ]
  },
  {
   "cell_type": "code",
   "execution_count": 65,
   "id": "fe8b0a2b-c0da-46b2-aad9-89b24e735606",
   "metadata": {},
   "outputs": [
    {
     "name": "stdout",
     "output_type": "stream",
     "text": [
      "\tClassification Report for BERT:\n",
      "\n",
      "               precision    recall  f1-score   support\n",
      "\n",
      "    Negative       0.89      0.84      0.86      1633\n",
      "     Neutral       0.78      0.73      0.75       619\n",
      "    Positive       0.84      0.90      0.87      1546\n",
      "\n",
      "   micro avg       0.85      0.85      0.85      3798\n",
      "   macro avg       0.83      0.82      0.83      3798\n",
      "weighted avg       0.85      0.85      0.85      3798\n",
      " samples avg       0.85      0.85      0.85      3798\n",
      "\n"
     ]
    }
   ],
   "source": [
    "print('\\tClassification Report for BERT:\\n\\n',classification_report(y_test,y_pred_bert, target_names=['Negative', 'Neutral', 'Positive']))"
   ]
  }
 ],
 "metadata": {
  "kernelspec": {
   "display_name": "Python 3",
   "language": "python",
   "name": "python3"
  },
  "language_info": {
   "codemirror_mode": {
    "name": "ipython",
    "version": 3
   },
   "file_extension": ".py",
   "mimetype": "text/x-python",
   "name": "python",
   "nbconvert_exporter": "python",
   "pygments_lexer": "ipython3",
   "version": "3.8.5"
  }
 },
 "nbformat": 4,
 "nbformat_minor": 5
}
